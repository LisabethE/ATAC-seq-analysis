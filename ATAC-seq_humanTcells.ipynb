{
 "cells": [
  {
   "cell_type": "markdown",
   "metadata": {},
   "source": [
    "# Import libraries"
   ]
  },
  {
   "cell_type": "code",
   "execution_count": 2,
   "metadata": {},
   "outputs": [],
   "source": [
    "import pandas as pd\n",
    "import matplotlib.pyplot as plt\n",
    "\n",
    "import numpy as np\n",
    "import scipy\n",
    "from scipy.cluster.hierarchy import dendrogram,linkage\n",
    "from scipy.cluster.hierarchy import fcluster\n",
    "from scipy.cluster.hierarchy import cophenet\n",
    "from scipy.spatial.distance import pdist\n",
    "\n",
    "from pylab import rcParams\n",
    "import seaborn as sb\n",
    "\n",
    "import sklearn\n",
    "from sklearn import datasets\n",
    "from sklearn.cluster import AgglomerativeClustering\n",
    "import sklearn.metrics as sm\n",
    "from sklearn.preprocessing import scale"
   ]
  },
  {
   "cell_type": "markdown",
   "metadata": {},
   "source": [
    "# QC with alignment data"
   ]
  },
  {
   "cell_type": "markdown",
   "metadata": {},
   "source": [
    "### Load data"
   ]
  },
  {
   "cell_type": "code",
   "execution_count": 7,
   "metadata": {},
   "outputs": [],
   "source": [
    "#alignment with Bowtie 2\n",
    "#naive T cells, 30 min / 60 min tagmentation time with technical replicates\n",
    "TN301 = pd.read_table('/corgi/lisabeth/ATAC050521/final/s302_TN301_cutadapt_bt2_sorted.bed', sep = '\\t', names = ['Chrom', 'ChromStart', 'ChromEnd', 'Name', 'Score', 'Strand'], low_memory=False)\n",
    "TN302 = pd.read_table('/corgi/lisabeth/ATAC050521/final/s306_TN302_cutadapt_bt2_sorted.bed', sep = '\\t', names = ['Chrom', 'ChromStart', 'ChromEnd', 'Name', 'Score', 'Strand'], low_memory=False)\n",
    "\n",
    "TN601 = pd.read_table('/corgi/lisabeth/ATAC050521/final/s301_TN601_cutadapt_bt2_sorted.bed', sep = '\\t', names = ['Chrom', 'ChromStart', 'ChromEnd', 'Name', 'Score', 'Strand'], low_memory=False)\n",
    "TN602 = pd.read_table('/corgi/lisabeth/ATAC050521/final/s305_TN602_cutadapt_bt2_sorted.bed', sep = '\\t', names = ['Chrom', 'ChromStart', 'ChromEnd', 'Name', 'Score', 'Strand'], low_memory=False)\n",
    "\n",
    "#activated T cells, 30 min / 60 min tagmentation time with technical replicates\n",
    "TA301 = pd.read_table('/corgi/lisabeth/ATAC050521/final/s303_TA301_cutadapt_bt2_sorted.bed', sep = '\\t', names = ['Chrom', 'ChromStart', 'ChromEnd', 'Name', 'Score', 'Strand'], low_memory=False)\n",
    "TA302 = pd.read_table('/corgi/lisabeth/ATAC050521/final/s308_TA302_cutadapt_bt2_sorted.bed', sep = '\\t', names = ['Chrom', 'ChromStart', 'ChromEnd', 'Name', 'Score', 'Strand'], low_memory=False)\n",
    "\n",
    "TA601 = pd.read_table('/corgi/lisabeth/ATAC050521/final/s304_TA601_cutadapt_bt2_sorted.bed', sep = '\\t', names = ['Chrom', 'ChromStart', 'ChromEnd', 'Name', 'Score', 'Strand'], low_memory=False)\n",
    "TA602 = pd.read_table('/corgi/lisabeth/ATAC050521/final/s307_TA602_cutadapt_bt2_sorted.bed', sep = '\\t', names = ['Chrom', 'ChromStart', 'ChromEnd', 'Name', 'Score', 'Strand'], low_memory=False)\n"
   ]
  },
  {
   "cell_type": "markdown",
   "metadata": {},
   "source": [
    "### Mitochondrial contamination"
   ]
  },
  {
   "cell_type": "code",
   "execution_count": 169,
   "metadata": {},
   "outputs": [
    {
     "data": {
      "text/html": [
       "<div>\n",
       "<style scoped>\n",
       "    .dataframe tbody tr th:only-of-type {\n",
       "        vertical-align: middle;\n",
       "    }\n",
       "\n",
       "    .dataframe tbody tr th {\n",
       "        vertical-align: top;\n",
       "    }\n",
       "\n",
       "    .dataframe thead th {\n",
       "        text-align: right;\n",
       "    }\n",
       "</style>\n",
       "<table border=\"1\" class=\"dataframe\">\n",
       "  <thead>\n",
       "    <tr style=\"text-align: right;\">\n",
       "      <th></th>\n",
       "      <th>Sample</th>\n",
       "      <th>Percentage mt reads</th>\n",
       "    </tr>\n",
       "  </thead>\n",
       "  <tbody>\n",
       "    <tr>\n",
       "      <th>0</th>\n",
       "      <td>TN 30.1</td>\n",
       "      <td>4.976339</td>\n",
       "    </tr>\n",
       "    <tr>\n",
       "      <th>1</th>\n",
       "      <td>TN 30.2</td>\n",
       "      <td>4.705714</td>\n",
       "    </tr>\n",
       "    <tr>\n",
       "      <th>2</th>\n",
       "      <td>TN 60.1</td>\n",
       "      <td>3.542477</td>\n",
       "    </tr>\n",
       "    <tr>\n",
       "      <th>3</th>\n",
       "      <td>TN 60.2</td>\n",
       "      <td>3.340337</td>\n",
       "    </tr>\n",
       "    <tr>\n",
       "      <th>4</th>\n",
       "      <td>TA 30.1</td>\n",
       "      <td>0.911579</td>\n",
       "    </tr>\n",
       "    <tr>\n",
       "      <th>5</th>\n",
       "      <td>TA 30.2</td>\n",
       "      <td>1.063428</td>\n",
       "    </tr>\n",
       "    <tr>\n",
       "      <th>6</th>\n",
       "      <td>TA 60.1</td>\n",
       "      <td>1.089468</td>\n",
       "    </tr>\n",
       "    <tr>\n",
       "      <th>7</th>\n",
       "      <td>TA 60.2</td>\n",
       "      <td>0.834505</td>\n",
       "    </tr>\n",
       "  </tbody>\n",
       "</table>\n",
       "</div>"
      ],
      "text/plain": [
       "    Sample  Percentage mt reads\n",
       "0  TN 30.1             4.976339\n",
       "1  TN 30.2             4.705714\n",
       "2  TN 60.1             3.542477\n",
       "3  TN 60.2             3.340337\n",
       "4  TA 30.1             0.911579\n",
       "5  TA 30.2             1.063428\n",
       "6  TA 60.1             1.089468\n",
       "7  TA 60.2             0.834505"
      ]
     },
     "execution_count": 169,
     "metadata": {},
     "output_type": "execute_result"
    }
   ],
   "source": [
    "dic = {\n",
    "        'Sample': ['TN 30.1', 'TN 30.2', 'TN 60.1', 'TN 60.2', \n",
    "                   'TA 30.1', 'TA 30.2', 'TA 60.1', 'TA 60.2'],\n",
    "        'Percentage mt reads': [184470/3706942*100, \n",
    "                                563354/11971701*100, \n",
    "                                156191/4409090*100, \n",
    "                                274847/8228121*100, \n",
    "                                50893/5582949*100,\n",
    "                                55651/5233169*100, \n",
    "                                45507/4176993*100, \n",
    "                                47548/5697747*100]\n",
    "        }\n",
    "    \n",
    "cont = pd.DataFrame(dic, columns = ['Sample', 'Percentage mt reads'])\n",
    "\n",
    "cont"
   ]
  },
  {
   "cell_type": "markdown",
   "metadata": {},
   "source": [
    "### Saturation curves"
   ]
  },
  {
   "cell_type": "code",
   "execution_count": 166,
   "metadata": {},
   "outputs": [],
   "source": [
    "#define fractions for subsampling = sequencing depth (0, 0.1, 0.2, ..., 1)\n",
    "frac = [i/10 for i in range(11) if i % 1 == 0]\n",
    "\n",
    "#function for random subsampling / sequencing depth, returning the according #unique reads\n",
    "def seq_analysis(df, frac):\n",
    "    #subsample with given fractions\n",
    "    dfrandom = df.sample(frac=frac)\n",
    "    dfdedup = pd.DataFrame.drop_duplicates(dfrandom)\n",
    "    return dfdedup.shape[0]\n",
    "\n",
    "#function for plotting\n",
    "def plotting(df, lab):\n",
    "    #frac: fractions for subsampling / sequencing depth, y: #unique reads\n",
    "    frac=[0, 0.1, 0.2, 0.3, 0.4, 0.5, 0.6, 0.7, 0.8, 0.9, 1]\n",
    "    y = [seq_analysis(df, y) for y in frac]\n",
    "    \n",
    "    #generate table for plotting\n",
    "    table_plotting = pd.DataFrame(\n",
    "    {\n",
    "    \"Sequencing_depth\": frac,\n",
    "    \"Unique_reads\": y\n",
    "    })\n",
    "    \n",
    "    #plotting\n",
    "    plt.plot(table_plotting.Sequencing_depth, table_plotting.Unique_reads, label = lab)\n",
    "    plt.xlabel('sequencing depth', fontdict={'fontsize':12})\n",
    "    plt.ylabel('# unique reads', fontdict={'fontsize':12})"
   ]
  },
  {
   "cell_type": "code",
   "execution_count": 170,
   "metadata": {},
   "outputs": [
    {
     "data": {
      "image/png": "[encoded data removed]",
      "text/plain": [
       "<Figure size 432x288 with 1 Axes>"
      ]
     },
     "metadata": {
      "needs_background": "light"
     },
     "output_type": "display_data"
    }
   ],
   "source": [
    "plotting(TN301, lab = 'TN 30.1')\n",
    "plotting(TN302, lab = 'TN 30.2')\n",
    "plotting(TN601, lab = 'TN 60.1')\n",
    "plotting(TN602, lab = 'TN 60.2')\n",
    "plotting(TA301, lab = 'TA 30.1')\n",
    "plotting(TA302, lab = 'TA 30.2')\n",
    "plotting(TA601, lab = 'TA 60.1')\n",
    "plotting(TA602, lab = 'TA 60.2')\n",
    "\n",
    "plt.legend()\n",
    "plt.savefig('saturation_plot.svg')"
   ]
  },
  {
   "cell_type": "markdown",
   "metadata": {},
   "source": [
    "# QC with peak calling data"
   ]
  },
  {
   "cell_type": "code",
   "execution_count": 44,
   "metadata": {},
   "outputs": [],
   "source": [
    "#peak calling with homer, technical replicates merged beforehand\n",
    "TN30 = pd.read_table('/corgi/lisabeth/ATAC050521/final/homer/TN30/peaks.txt', sep = '\\t', comment='#', names = ['Chrom', 'ChromStart', 'ChromEnd', 'Strand', 'Normalized Tag Count', 'Focus Ratio', 'Score', 'Fold Change', 'p value', 'x'])\n",
    "TN60 = pd.read_table('/corgi/lisabeth/ATAC050521/final/homer/TN60/peaks.txt', sep = '\\t', comment='#', names = ['Chrom', 'ChromStart', 'ChromEnd', 'Strand', 'Normalized Tag Count', 'Focus Ratio', 'Score', 'Fold Change', 'p value', 'x'])\n",
    "\n",
    "TA30 = pd.read_table('/corgi/lisabeth/ATAC050521/final/homer/TA30/peaks.txt', sep = '\\t', comment='#', names = ['Chrom', 'ChromStart', 'ChromEnd', 'Strand', 'Normalized Tag Count', 'Focus Ratio', 'Score', 'Fold Change', 'p value', 'x'])\n",
    "TA60 = pd.read_table('/corgi/lisabeth/ATAC050521/final/homer/TA60/peaks.txt', sep = '\\t', comment='#', names = ['Chrom', 'ChromStart', 'ChromEnd', 'Strand', 'Normalized Tag Count', 'Focus Ratio', 'Score', 'Fold Change', 'p value', 'x'])\n"
   ]
  },
  {
   "cell_type": "code",
   "execution_count": 84,
   "metadata": {},
   "outputs": [
    {
     "data": {
      "text/html": [
       "<div>\n",
       "<style scoped>\n",
       "    .dataframe tbody tr th:only-of-type {\n",
       "        vertical-align: middle;\n",
       "    }\n",
       "\n",
       "    .dataframe tbody tr th {\n",
       "        vertical-align: top;\n",
       "    }\n",
       "\n",
       "    .dataframe thead th {\n",
       "        text-align: right;\n",
       "    }\n",
       "</style>\n",
       "<table border=\"1\" class=\"dataframe\">\n",
       "  <thead>\n",
       "    <tr style=\"text-align: right;\">\n",
       "      <th></th>\n",
       "      <th>Sample</th>\n",
       "      <th># Peaks</th>\n",
       "      <th>Av. score</th>\n",
       "      <th>Av. width</th>\n",
       "    </tr>\n",
       "  </thead>\n",
       "  <tbody>\n",
       "    <tr>\n",
       "      <th>0</th>\n",
       "      <td>TN 30</td>\n",
       "      <td>335580</td>\n",
       "      <td>21.348859</td>\n",
       "      <td>177.998319</td>\n",
       "    </tr>\n",
       "    <tr>\n",
       "      <th>1</th>\n",
       "      <td>TN 60</td>\n",
       "      <td>246117</td>\n",
       "      <td>23.822389</td>\n",
       "      <td>209.998298</td>\n",
       "    </tr>\n",
       "    <tr>\n",
       "      <th>2</th>\n",
       "      <td>TA 30</td>\n",
       "      <td>215721</td>\n",
       "      <td>19.630806</td>\n",
       "      <td>201.999105</td>\n",
       "    </tr>\n",
       "    <tr>\n",
       "      <th>3</th>\n",
       "      <td>TA 60</td>\n",
       "      <td>177093</td>\n",
       "      <td>17.644147</td>\n",
       "      <td>203.998684</td>\n",
       "    </tr>\n",
       "  </tbody>\n",
       "</table>\n",
       "</div>"
      ],
      "text/plain": [
       "  Sample  # Peaks  Av. score   Av. width\n",
       "0  TN 30   335580  21.348859  177.998319\n",
       "1  TN 60   246117  23.822389  209.998298\n",
       "2  TA 30   215721  19.630806  201.999105\n",
       "3  TA 60   177093  17.644147  203.998684"
      ]
     },
     "execution_count": 84,
     "metadata": {},
     "output_type": "execute_result"
    }
   ],
   "source": [
    "def pt(T):\n",
    "    #number of peaks in total\n",
    "    pt = T.shape[0]\n",
    "    return pt\n",
    "def ht(T):\n",
    "    #average score of peaks in total\n",
    "    ht = T['Score'].mean(axis=0)\n",
    "    return ht\n",
    "def pw(T):\n",
    "    #average peak width in total\n",
    "    T['Peak width'] = T['ChromEnd'] - T['ChromStart']\n",
    "    pw = T['Peak width'].mean(axis=0)\n",
    "    return pw\n",
    "    \n",
    "#dictionary\n",
    "dic = {\n",
    "        'Sample': ['TN 30', 'TN 60', 'TA 30', 'TA 60'],\n",
    "        '# Peaks': [pt(TN30), pt(TN60), pt(TA30), pt(TA60)],\n",
    "        'Percentage peaks': [pt(TN30)/(3707667+11973785)]\n",
    "        'Av. score': [ht(TN30), ht(TN60), ht(TA30), ht(TA60)],\n",
    "        'Av. width': [pw(TN30), pw(TN60), pw(TA30), pw(TA60)],\n",
    "        }\n",
    "    \n",
    "df = pd.DataFrame(dic, columns = ['Sample', '# Peaks', 'Av. score', 'Av. width'])\n",
    "    \n",
    "df"
   ]
  },
  {
   "cell_type": "markdown",
   "metadata": {},
   "source": [
    "# Peak annotation"
   ]
  },
  {
   "cell_type": "code",
   "execution_count": 45,
   "metadata": {},
   "outputs": [
    {
     "name": "stderr",
     "output_type": "stream",
     "text": [
      "/home/mahogny/miniconda3/lib/python3.7/site-packages/ipykernel_launcher.py:6: SettingWithCopyWarning: \n",
      "A value is trying to be set on a copy of a slice from a DataFrame.\n",
      "Try using .loc[row_indexer,col_indexer] = value instead\n",
      "\n",
      "See the caveats in the documentation: https://pandas.pydata.org/pandas-docs/stable/user_guide/indexing.html#returning-a-view-versus-a-copy\n",
      "  \n"
     ]
    }
   ],
   "source": [
    "#load the genome annotation file\n",
    "genome = pd.read_csv('/corgi/lisabeth/ATAC050521/ref/Homo_sapiens.GRCh38.104.chr.gtf', comment = \"#\", sep = \"\\t\", names = ['Chrom', 'source', 'feature', 'Start', 'End', 'score', 'strand', 'frame', 'Attributes'], low_memory=False)\n",
    "#filter the genome for genes and define their positions\n",
    "genomed = genome.drop(['source', 'score', 'strand', 'frame'], axis = 1)\n",
    "genes = genomed[genomed[\"feature\"] == \"gene\"]\n",
    "genes['Pos'] = genes[['Start', 'End']].mean(axis=1)"
   ]
  },
  {
   "cell_type": "code",
   "execution_count": 54,
   "metadata": {},
   "outputs": [],
   "source": [
    "#peak annotation for peaks with score over 50, INCLUDING MT and Y\n",
    "\n",
    "#function for defining positions of peaks on each chromosome\n",
    "def positions(T):\n",
    "    #only peaks with score over 50\n",
    "    T = T[T['Score'] > 50]\n",
    "    T['Pos'] = T[['ChromStart', 'ChromEnd']].mean(axis=1)\n",
    "    #keep only peaks on chromosomes which are also contained in the genome annotation file\n",
    "    T = T[T['Chrom'].isin(genes[\"Chrom\"].unique())]\n",
    "    \n",
    "    peaks = pd.DataFrame(\n",
    "        {\n",
    "    \"Chrom\": T[\"Chrom\"].tolist(),\n",
    "    \"Pos\": T[\"Pos\"].tolist(),\n",
    "    \"Score\": T[\"Score\"].tolist()\n",
    "        })\n",
    "    \n",
    "    return peaks\n",
    "\n",
    "\n",
    "#pick the index of the smallest element\n",
    "def get_index_of_smallest(numbers):\n",
    "    return numbers.index(min(numbers))\n",
    "\n",
    "\n",
    "#find the closest gene to one peak position\n",
    "def closest_gene1(chrom, pos):\n",
    "    inclchrom = genes[genes[\"Chrom\"] == chrom]\n",
    "    \n",
    "    #absolute difference (no neg. values) between gene and peak positions\n",
    "    diff = abs(inclchrom['Pos'] - pos).tolist()\n",
    "    #get index of the smallest difference, output fourth column = Attributes (gene name)\n",
    "    return inclchrom.iloc[get_index_of_smallest(diff),4] \n",
    "\n",
    "\n",
    "#find the closest gene to peak positions\n",
    "def closest_gene_all(T):\n",
    "    chrom = T[\"Chrom\"].tolist()\n",
    "    pos = T[\"Pos\"].tolist()\n",
    "   \n",
    "    #list comprehension, assignment pos to chrom\n",
    "    pos_chrom = [closest_gene1(chrom[i], pos[i]) for i in range(0, len(pos))]\n",
    "    return pos_chrom\n",
    "\n",
    "\n",
    "def peak_genes(T):\n",
    "    #include peak positions\n",
    "    T = positions(T)\n",
    "    #convert list into a dataframe\n",
    "    dataframe = pd.DataFrame(closest_gene_all(T), columns = ['Attributes'])\n",
    "    #split Attributes column at semicolons\n",
    "    attr = dataframe.Attributes.str.split(\";\", expand = True)\n",
    "    #take column of Attributes containing gene names\n",
    "    gene_name = attr[2]\n",
    "    \n",
    "    #generate a dataframe, give gene names (second column of attr)\n",
    "    table = pd.DataFrame(\n",
    "        {\n",
    "    \"Chrom\": T['Chrom'],\n",
    "    \"Pos\": T['Pos'],\n",
    "    \"Peak Score\": T['Score'],\n",
    "    \"Gene name\": gene_name\n",
    "        })\n",
    "\n",
    "    \n",
    "    #filter column with gene names for gene names only\n",
    "    onlygn = table[table[\"Gene name\"].str.contains('gene_name')]\n",
    "    \n",
    "    #sort dataframe by descending peak scores\n",
    "    peak_annotation = onlygn.sort_values(\"Peak Score\", ascending = False)\n",
    "    \n",
    "    return peak_annotation"
   ]
  },
  {
   "cell_type": "code",
   "execution_count": 135,
   "metadata": {},
   "outputs": [
    {
     "name": "stderr",
     "output_type": "stream",
     "text": [
      "/home/mahogny/miniconda3/lib/python3.7/site-packages/ipykernel_launcher.py:7: SettingWithCopyWarning: \n",
      "A value is trying to be set on a copy of a slice from a DataFrame.\n",
      "Try using .loc[row_indexer,col_indexer] = value instead\n",
      "\n",
      "See the caveats in the documentation: https://pandas.pydata.org/pandas-docs/stable/user_guide/indexing.html#returning-a-view-versus-a-copy\n",
      "  import sys\n"
     ]
    }
   ],
   "source": [
    "#save dataframes as csv files\n",
    "peak_genes(TN30).to_csv(\"TN30_peak_annotation_incl\")\n",
    "peak_genes(TN60).to_csv(\"TN60_peak_annotation_incl\")\n",
    "peak_genes(TA30).to_csv(\"TA30_peak_annotation_incl\")\n",
    "peak_genes(TA60).to_csv(\"TA60_peak_annotation_incl\")"
   ]
  },
  {
   "cell_type": "code",
   "execution_count": 58,
   "metadata": {},
   "outputs": [],
   "source": [
    "#peak annotation for peaks with score over 50 EXCLUDING MT and Y\n",
    "\n",
    "#function for defining positions of peaks on each chromosome\n",
    "def positions(T):\n",
    "    #only peaks with score over 50\n",
    "    T = T[T['Score'] > 50]\n",
    "    T['Pos'] = T[['ChromStart', 'ChromEnd']].mean(axis=1)\n",
    "    #keep only peaks on chromosomes which are also contained in the genome annotation file\n",
    "    T = T[T['Chrom'].isin(genes[\"Chrom\"].unique())]\n",
    "    \n",
    "    peaks = pd.DataFrame(\n",
    "        {\n",
    "    \"Chrom\": T[\"Chrom\"].tolist(),\n",
    "    \"Pos\": T[\"Pos\"].tolist(),\n",
    "    \"Score\": T[\"Score\"].tolist()\n",
    "        })\n",
    "    \n",
    "    return peaks\n",
    "\n",
    "\n",
    "#pick the index of the smallest element\n",
    "def get_index_of_smallest(numbers):\n",
    "    return numbers.index(min(numbers))\n",
    "\n",
    "\n",
    "#find the closest gene to one peak position\n",
    "def closest_gene1(chrom, pos):\n",
    "    inclchrom = genes[genes[\"Chrom\"] == chrom]\n",
    "    \n",
    "    #absolute difference (no neg. values) between gene and peak positions\n",
    "    diff = abs(inclchrom['Pos'] - pos).tolist()\n",
    "    #get index of the smallest difference, output fourth column = Attributes (gene name)\n",
    "    return inclchrom.iloc[get_index_of_smallest(diff),4] \n",
    "\n",
    "\n",
    "#find the closest gene to peak positions\n",
    "def closest_gene_all(T):\n",
    "    chrom = T[\"Chrom\"].tolist()\n",
    "    pos = T[\"Pos\"].tolist()\n",
    "   \n",
    "    #list comprehension, assignment pos to chrom\n",
    "    pos_chrom = [closest_gene1(chrom[i], pos[i]) for i in range(0, len(pos))]\n",
    "    return pos_chrom\n",
    "\n",
    "\n",
    "def peak_genes2(T):\n",
    "    #include peak positions\n",
    "    T = positions(T)\n",
    "    #convert list into a dataframe\n",
    "    dataframe = pd.DataFrame(closest_gene_all(T), columns = ['Attributes'])\n",
    "    #split Attributes column at semicolons\n",
    "    attr = dataframe.Attributes.str.split(\";\", expand = True)\n",
    "    #take column of Attributes containing gene names\n",
    "    gene_name = attr[2]\n",
    "    \n",
    "    #generate a dataframe, give gene names (second column of attr)\n",
    "    table = pd.DataFrame(\n",
    "        {\n",
    "    \"Chrom\": T['Chrom'],\n",
    "    \"Pos\": T['Pos'],\n",
    "    \"Peak Score\": T['Score'],\n",
    "    \"Gene name\": gene_name\n",
    "        })\n",
    "\n",
    "    noMT = table[table[\"Chrom\"]!=\"MT\"]\n",
    "    noMTorY = noMT[noMT[\"Chrom\"]!=\"Y\"]\n",
    "    \n",
    "    #filter column with gene names for gene names only\n",
    "    onlygn = noMTorY[noMTorY[\"Gene name\"].str.contains('gene_name')]\n",
    "    \n",
    "    #sort dataframe by descending peak scores\n",
    "    peak_annotation = onlygn.sort_values(\"Peak Score\", ascending = False)\n",
    "    \n",
    "    return peak_annotation"
   ]
  },
  {
   "cell_type": "code",
   "execution_count": 137,
   "metadata": {},
   "outputs": [
    {
     "name": "stderr",
     "output_type": "stream",
     "text": [
      "/home/mahogny/miniconda3/lib/python3.7/site-packages/ipykernel_launcher.py:7: SettingWithCopyWarning: \n",
      "A value is trying to be set on a copy of a slice from a DataFrame.\n",
      "Try using .loc[row_indexer,col_indexer] = value instead\n",
      "\n",
      "See the caveats in the documentation: https://pandas.pydata.org/pandas-docs/stable/user_guide/indexing.html#returning-a-view-versus-a-copy\n",
      "  import sys\n"
     ]
    }
   ],
   "source": [
    "#save dataframes as csv files\n",
    "peak_genes2(TN30).to_csv(\"TN30_peak_annotation_excl\")\n",
    "peak_genes2(TN60).to_csv(\"TN60_peak_annotation_excl\")\n",
    "peak_genes2(TA30).to_csv(\"TA30_peak_annotation_excl\")\n",
    "peak_genes2(TA60).to_csv(\"TA60_peak_annotation_excl\")"
   ]
  },
  {
   "cell_type": "code",
   "execution_count": 76,
   "metadata": {},
   "outputs": [
    {
     "name": "stderr",
     "output_type": "stream",
     "text": [
      "/home/mahogny/miniconda3/lib/python3.7/site-packages/ipykernel_launcher.py:7: SettingWithCopyWarning: \n",
      "A value is trying to be set on a copy of a slice from a DataFrame.\n",
      "Try using .loc[row_indexer,col_indexer] = value instead\n",
      "\n",
      "See the caveats in the documentation: https://pandas.pydata.org/pandas-docs/stable/user_guide/indexing.html#returning-a-view-versus-a-copy\n",
      "  import sys\n"
     ]
    },
    {
     "data": {
      "text/html": [
       "<div>\n",
       "<style scoped>\n",
       "    .dataframe tbody tr th:only-of-type {\n",
       "        vertical-align: middle;\n",
       "    }\n",
       "\n",
       "    .dataframe tbody tr th {\n",
       "        vertical-align: top;\n",
       "    }\n",
       "\n",
       "    .dataframe thead th {\n",
       "        text-align: right;\n",
       "    }\n",
       "</style>\n",
       "<table border=\"1\" class=\"dataframe\">\n",
       "  <thead>\n",
       "    <tr style=\"text-align: right;\">\n",
       "      <th></th>\n",
       "      <th>Sample</th>\n",
       "      <th>Percentage unique genes</th>\n",
       "    </tr>\n",
       "  </thead>\n",
       "  <tbody>\n",
       "    <tr>\n",
       "      <th>0</th>\n",
       "      <td>TN 30</td>\n",
       "      <td>61.329588</td>\n",
       "    </tr>\n",
       "    <tr>\n",
       "      <th>1</th>\n",
       "      <td>TN 60</td>\n",
       "      <td>78.060046</td>\n",
       "    </tr>\n",
       "    <tr>\n",
       "      <th>2</th>\n",
       "      <td>TA 30</td>\n",
       "      <td>85.672276</td>\n",
       "    </tr>\n",
       "    <tr>\n",
       "      <th>3</th>\n",
       "      <td>TA 60</td>\n",
       "      <td>87.374328</td>\n",
       "    </tr>\n",
       "  </tbody>\n",
       "</table>\n",
       "</div>"
      ],
      "text/plain": [
       "  Sample  Percentage unique genes\n",
       "0  TN 30                61.329588\n",
       "1  TN 60                78.060046\n",
       "2  TA 30                85.672276\n",
       "3  TA 60                87.374328"
      ]
     },
     "execution_count": 76,
     "metadata": {},
     "output_type": "execute_result"
    }
   ],
   "source": [
    "#calculate percentage of multiply annotated genes\n",
    "def uniq(T):\n",
    "    ug = peak_genes2(T).drop_duplicates(subset=['Gene name']).shape[0]/peak_genes2(T).shape[0]*100\n",
    "    return ug\n",
    "\n",
    "dic = {\n",
    "        'Sample': ['TN 30', 'TN 60', 'TA 30', 'TA 60'],\n",
    "        'Percentage unique genes': [uniq(TN30), uniq(TN60), uniq(TA30), uniq(TA60)],\n",
    "        }\n",
    "df = pd.DataFrame(dic, columns = ['Sample', 'Percentage unique genes'])  \n",
    "\n",
    "df"
   ]
  },
  {
   "cell_type": "code",
   "execution_count": 79,
   "metadata": {},
   "outputs": [],
   "source": [
    "#generate a list with the first 300 DEDUPL gene names of peak annotation EXCL MT and Y\n",
    "def gene_names_dedup(T):\n",
    "    gn = peak_genes2(T)\n",
    "    dedup = gn.drop_duplicates(subset=['Gene name'])\n",
    "    #remove \"gene_names\" before actual gene names as well as quotation marks around the gene name\n",
    "    gn_list = [x.replace(\"gene_name \\\"\",\"\").replace(\"\\\"\",\"\") for x in dedup[\"Gene name\"]]\n",
    "    return print(gn_list[:300])"
   ]
  },
  {
   "cell_type": "markdown",
   "metadata": {},
   "source": [
    "# Hierarchical clustering"
   ]
  },
  {
   "cell_type": "code",
   "execution_count": 40,
   "metadata": {},
   "outputs": [],
   "source": [
    "TN301 = pd.read_table('/corgi/lisabeth/ATAC050521/final/homer/TAvsTN/peaksTall_TN301.bed', comment = \"#\", sep = \"\\t\", names = ['Chrom', 'ChromStart', 'ChromEnd', '# Overlaps TN30.1', 4,5,6], low_memory = False)\n",
    "TN301d = TN301.drop([4, 5, 6], axis=1)\n",
    "TN302 = pd.read_table('/corgi/lisabeth/ATAC050521/final/homer/TAvsTN/peaksTall_TN302.bed', comment = \"#\", sep = \"\\t\", names = ['Chrom', 'ChromStart', 'ChromEnd', '# Overlaps TN30.2', 4,5,6], low_memory = False)\n",
    "TN302d = TN302.drop([\"Chrom\", \"ChromStart\", \"ChromEnd\", 4, 5, 6], axis=1)\n",
    "\n",
    "TN601 = pd.read_table('/corgi/lisabeth/ATAC050521/final/homer/TAvsTN/peaksTall_TN601.bed', comment = \"#\", sep = \"\\t\", names = ['Chrom', 'ChromStart', 'ChromEnd', '# Overlaps TN60.1', 4,5,6], low_memory = False)\n",
    "TN601d = TN601.drop([\"Chrom\", \"ChromStart\", \"ChromEnd\", 4, 5, 6], axis=1)\n",
    "TN602 = pd.read_table('/corgi/lisabeth/ATAC050521/final/homer/TAvsTN/peaksTall_TN602.bed', comment = \"#\", sep = \"\\t\", names = ['Chrom', 'ChromStart', 'ChromEnd', '# Overlaps TN60.2', 4,5,6], low_memory = False)\n",
    "TN602d = TN602.drop([\"Chrom\", \"ChromStart\", \"ChromEnd\", 4, 5, 6], axis=1)\n",
    "\n",
    "TA301 = pd.read_table('/corgi/lisabeth/ATAC050521/final/homer/TAvsTN/peaksTall_TA301.bed', comment = \"#\", sep = \"\\t\", names = ['Chrom', 'ChromStart', 'ChromEnd', '# Overlaps TA30.1', 4,5,6], low_memory = False)\n",
    "TA301d = TA301.drop([\"Chrom\", \"ChromStart\", \"ChromEnd\", 4, 5, 6], axis=1)\n",
    "TA302 = pd.read_table('/corgi/lisabeth/ATAC050521/final/homer/TAvsTN/peaksTall_TA302.bed', comment = \"#\", sep = \"\\t\", names = ['Chrom', 'ChromStart', 'ChromEnd', '# Overlaps TA30.2', 4,5,6], low_memory = False)\n",
    "TA302d = TA302.drop([\"Chrom\", \"ChromStart\", \"ChromEnd\", 4, 5, 6], axis=1)\n",
    "\n",
    "TA601 = pd.read_table('/corgi/lisabeth/ATAC050521/final/homer/TAvsTN/peaksTall_TA601.bed', comment = \"#\", sep = \"\\t\", names = ['Chrom', 'ChromStart', 'ChromEnd', '# Overlaps TA60.1', 4,5,6], low_memory = False)\n",
    "TA601d = TA601.drop([\"Chrom\", \"ChromStart\", \"ChromEnd\", 4, 5, 6], axis=1)\n",
    "TA602 = pd.read_table('/corgi/lisabeth/ATAC050521/final/homer/TAvsTN/peaksTall_TA602.bed', comment = \"#\", sep = \"\\t\", names = ['Chrom', 'ChromStart', 'ChromEnd', '# Overlaps TA60.2', 4,5,6], low_memory = False)\n",
    "TA602d = TA602.drop([\"Chrom\", \"ChromStart\", \"ChromEnd\", 4, 5, 6], axis=1)\n",
    "\n",
    "m = pd.concat([TN301d, TN302d, TN601d, TN602d, TA301d, TA302d, TA601d, TA602d], axis = 1)\n",
    "\n",
    "Tg = m[m[\"Chrom\"].str[0]!=\"G\"]\n",
    "Tk = Tg[Tg[\"Chrom\"].str[0]!=\"K\"]\n",
    "Tcounts = Tk.drop([\"Chrom\", \"ChromStart\", \"ChromEnd\"], axis=1)\n",
    "\n",
    "Tcounts['TN 30.1'] = Tcounts['# Overlaps TN30.1']/Tcounts['# Overlaps TN30.1'].sum()\n",
    "Tcounts['TN 30.2'] = Tcounts['# Overlaps TN30.2']/Tcounts['# Overlaps TN30.2'].sum()\n",
    "Tcounts['TN 60.1'] = Tcounts['# Overlaps TN60.1']/Tcounts['# Overlaps TN60.1'].sum()\n",
    "Tcounts['TN 60.2'] = Tcounts['# Overlaps TN60.2']/Tcounts['# Overlaps TN60.2'].sum()\n",
    "    \n",
    "Tcounts['TA 30.1'] = Tcounts['# Overlaps TA30.1']/Tcounts['# Overlaps TA30.1'].sum()  \n",
    "Tcounts['TA 30.2'] = Tcounts['# Overlaps TA30.2']/Tcounts['# Overlaps TA30.2'].sum() \n",
    "Tcounts['TA 60.1'] = Tcounts['# Overlaps TA60.1']/Tcounts['# Overlaps TA60.1'].sum()\n",
    "Tcounts['TA 60.2'] = Tcounts['# Overlaps TA60.2']/Tcounts['# Overlaps TA60.2'].sum()\n",
    "\n",
    "Tadj = Tcounts.drop([\"# Overlaps TN30.1\", \"# Overlaps TA30.1\", \"# Overlaps TN60.1\", \"# Overlaps TA60.1\",\n",
    "                    \"# Overlaps TN30.2\", \"# Overlaps TA30.2\", \"# Overlaps TN60.2\", \"# Overlaps TA60.2\"], axis=1)\n",
    "Ttr = Tadj.to_numpy().transpose()"
   ]
  },
  {
   "cell_type": "code",
   "execution_count": 42,
   "metadata": {},
   "outputs": [
    {
     "data": {
      "image/png": "[encoded data removed]",
      "text/plain": [
       "<Figure size 432x288 with 1 Axes>"
      ]
     },
     "metadata": {
      "needs_background": "light"
     },
     "output_type": "display_data"
    },
    {
     "data": {
      "text/plain": [
       "<Figure size 432x288 with 0 Axes>"
      ]
     },
     "metadata": {},
     "output_type": "display_data"
    }
   ],
   "source": [
    "Tm = linkage(Ttr)\n",
    "\n",
    "dendrogram(Tm, p = 12, leaf_rotation = 90, leaf_font_size = 15, labels = Tadj.columns)\n",
    "\n",
    "plt.show()\n",
    "plt.savefig('dendrogram.svg')"
   ]
  }
 ],
 "metadata": {
  "kernelspec": {
   "display_name": "Python 3",
   "language": "python",
   "name": "python3"
  },
  "language_info": {
   "codemirror_mode": {
    "name": "ipython",
    "version": 3
   },
   "file_extension": ".py",
   "mimetype": "text/x-python",
   "name": "python",
   "nbconvert_exporter": "python",
   "pygments_lexer": "ipython3",
   "version": "3.7.4"
  }
 },
 "nbformat": 4,
 "nbformat_minor": 2
}
